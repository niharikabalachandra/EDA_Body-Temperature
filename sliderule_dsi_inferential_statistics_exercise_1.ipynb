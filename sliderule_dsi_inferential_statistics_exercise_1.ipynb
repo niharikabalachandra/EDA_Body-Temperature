{
 "cells": [
  {
   "cell_type": "markdown",
   "metadata": {},
   "source": [
    "# What is the True Normal Human Body Temperature? \n",
    "\n",
    "#### Background\n",
    "\n",
    "The mean normal body temperature was held to be 37$^{\\circ}$C or 98.6$^{\\circ}$F for more than 120 years since it was first conceptualized and reported by Carl Wunderlich in a famous 1868 book. But, is this value statistically correct?"
   ]
  },
  {
   "cell_type": "markdown",
   "metadata": {},
   "source": [
    "<div class=\"span5 alert alert-info\">\n",
    "<h3>Exercises</h3>\n",
    "\n",
    "<p>In this exercise, you will analyze a dataset of human body temperatures and employ the concepts of hypothesis testing, confidence intervals, and statistical significance.</p>\n",
    "\n",
    "<p>Answer the following questions <b>in this notebook below and submit to your Github account</b>.</p> \n",
    "\n",
    "<ol>\n",
    "<li>  Is the distribution of body temperatures normal? \n",
    "    <ul>\n",
    "    <li> Although this is not a requirement for CLT to hold (read CLT carefully), it gives us some peace of mind that the population may also be normally distributed if we assume that this sample is representative of the population.\n",
    "    </ul>\n",
    "<li>  Is the sample size large? Are the observations independent?\n",
    "    <ul>\n",
    "    <li> Remember that this is a condition for the CLT, and hence the statistical tests we are using, to apply.\n",
    "    </ul>\n",
    "<li>  Is the true population mean really 98.6 degrees F?\n",
    "    <ul>\n",
    "    <li> Would you use a one-sample or two-sample test? Why?\n",
    "    <li> In this situation, is it appropriate to use the $t$ or $z$ statistic? \n",
    "    <li> Now try using the other test. How is the result be different? Why?\n",
    "    </ul>\n",
    "<li>  At what temperature should we consider someone's temperature to be \"abnormal\"?\n",
    "    <ul>\n",
    "    <li> Start by computing the margin of error and confidence interval.\n",
    "    </ul>\n",
    "<li>  Is there a significant difference between males and females in normal temperature?\n",
    "    <ul>\n",
    "    <li> What test did you use and why?\n",
    "    <li> Write a story with your conclusion in the context of the original problem.\n",
    "    </ul>\n",
    "</ol>\n",
    "\n",
    "You can include written notes in notebook cells using Markdown: \n",
    "   - In the control panel at the top, choose Cell > Cell Type > Markdown\n",
    "   - Markdown syntax: http://nestacms.com/docs/creating-content/markdown-cheat-sheet\n",
    "\n",
    "#### Resources\n",
    "\n",
    "+ Information and data sources: http://www.amstat.org/publications/jse/datasets/normtemp.txt, http://www.amstat.org/publications/jse/jse_data_archive.htm\n",
    "+ Markdown syntax: http://nestacms.com/docs/creating-content/markdown-cheat-sheet\n",
    "\n",
    "****"
   ]
  },
  {
   "cell_type": "code",
   "execution_count": 266,
   "metadata": {
    "collapsed": false
   },
   "outputs": [
    {
     "data": {
      "text/html": [
       "<div>\n",
       "<table border=\"1\" class=\"dataframe\">\n",
       "  <thead>\n",
       "    <tr style=\"text-align: right;\">\n",
       "      <th></th>\n",
       "      <th>temperature</th>\n",
       "      <th>gender</th>\n",
       "      <th>heart_rate</th>\n",
       "    </tr>\n",
       "  </thead>\n",
       "  <tbody>\n",
       "    <tr>\n",
       "      <th>0</th>\n",
       "      <td>99.3</td>\n",
       "      <td>F</td>\n",
       "      <td>68.0</td>\n",
       "    </tr>\n",
       "    <tr>\n",
       "      <th>1</th>\n",
       "      <td>98.4</td>\n",
       "      <td>F</td>\n",
       "      <td>81.0</td>\n",
       "    </tr>\n",
       "    <tr>\n",
       "      <th>2</th>\n",
       "      <td>97.8</td>\n",
       "      <td>M</td>\n",
       "      <td>73.0</td>\n",
       "    </tr>\n",
       "    <tr>\n",
       "      <th>3</th>\n",
       "      <td>99.2</td>\n",
       "      <td>F</td>\n",
       "      <td>66.0</td>\n",
       "    </tr>\n",
       "    <tr>\n",
       "      <th>4</th>\n",
       "      <td>98.0</td>\n",
       "      <td>F</td>\n",
       "      <td>73.0</td>\n",
       "    </tr>\n",
       "  </tbody>\n",
       "</table>\n",
       "</div>"
      ],
      "text/plain": [
       "   temperature gender  heart_rate\n",
       "0         99.3      F        68.0\n",
       "1         98.4      F        81.0\n",
       "2         97.8      M        73.0\n",
       "3         99.2      F        66.0\n",
       "4         98.0      F        73.0"
      ]
     },
     "execution_count": 266,
     "metadata": {},
     "output_type": "execute_result"
    }
   ],
   "source": [
    "import pandas as pd\n",
    "df = pd.read_csv('data/human_body_temperature.csv')\n",
    "df.head(5)"
   ]
  },
  {
   "cell_type": "code",
   "execution_count": 194,
   "metadata": {
    "collapsed": false
   },
   "outputs": [
    {
     "data": {
      "text/plain": [
       "temperature\n",
       "96.3      1\n",
       "96.4      1\n",
       "96.7      2\n",
       "96.8      1\n",
       "96.9      1\n",
       "97.0      1\n",
       "97.1      3\n",
       "97.2      3\n",
       "97.3      1\n",
       "97.4      5\n",
       "97.5      2\n",
       "97.6      4\n",
       "97.7      3\n",
       "97.8      7\n",
       "97.9      5\n",
       "98.0     11\n",
       "98.1      3\n",
       "98.2     10\n",
       "98.3      5\n",
       "98.4      9\n",
       "98.5      3\n",
       "98.6     10\n",
       "98.7      8\n",
       "98.8     10\n",
       "98.9      2\n",
       "99.0      5\n",
       "99.1      3\n",
       "99.2      3\n",
       "99.3      2\n",
       "99.4      2\n",
       "99.5      1\n",
       "99.9      1\n",
       "100.0     1\n",
       "100.8     1\n",
       "Name: temperature, dtype: int64"
      ]
     },
     "execution_count": 194,
     "metadata": {},
     "output_type": "execute_result"
    }
   ],
   "source": [
    "df['temperature'].groupby(df['temperature']).count()"
   ]
  },
  {
   "cell_type": "markdown",
   "metadata": {
    "collapsed": false
   },
   "source": [
    "\n",
    "# Is the distribution of body temperatures normal? \n"
   ]
  },
  {
   "cell_type": "markdown",
   "metadata": {},
   "source": [
    "Nearly all of the inferential statistics that we use rely upon something that is called the “Assumption of Normality.” In other words, these statistical procedures are based on the assumption that the value of interest (which is calculated from the sample) will exhibit a bell-curve distribution function if oodles of random samples are taken and the distribution of the calculated value (across samples) is plotted.\n",
    "This is why these statistical procedures are called parametric. \n",
    "\n",
    "There are at least two approaches to test the Assumption of Normality.  \n",
    "* The Kolmogorov-Smirnov \n",
    "* The Shapiro-Wilk Test \n",
    "\n",
    "Both are non-parametric tests that allow you to check the shape of a sample against a variety of known, popular shapes, including the normal distribution.\n"
   ]
  },
  {
   "cell_type": "code",
   "execution_count": 195,
   "metadata": {
    "collapsed": false
   },
   "outputs": [],
   "source": [
    "import matplotlib.pyplot as plt\n",
    "import numpy as np\n",
    "import matplotlib.mlab as mlab\n",
    "import matplotlib as mpl\n",
    "import scipy \n",
    "import plotly.plotly as py\n",
    "import plotly.graph_objs as go\n",
    "from plotly.tools import FigureFactory as FF\n"
   ]
  },
  {
   "cell_type": "markdown",
   "metadata": {},
   "source": [
    "In general for a normality test, we are testing the null-hypothesis that the our data is sampled from a population that has a Normal Distribution. We assume a significance level of 0.05 or 95% for our tests."
   ]
  },
  {
   "cell_type": "code",
   "execution_count": 196,
   "metadata": {
    "collapsed": false
   },
   "outputs": [
    {
     "data": {
      "text/plain": [
       "(0.9865769743919373, 0.2331680953502655)"
      ]
     },
     "execution_count": 196,
     "metadata": {},
     "output_type": "execute_result"
    }
   ],
   "source": [
    "# The Shapiro-Wilk normality test\n",
    "x = df['temperature']\n",
    "shapiro_results = scipy.stats.shapiro(x)\n",
    "shapiro_results\n"
   ]
  },
  {
   "cell_type": "markdown",
   "metadata": {},
   "source": [
    "Since our p-value is much less than our Test Statistic, we have good evidence to not reject the null hypothesis i.e our data is sampled from a population that has a Normal Distribution."
   ]
  },
  {
   "cell_type": "code",
   "execution_count": 197,
   "metadata": {
    "collapsed": false
   },
   "outputs": [
    {
     "data": {
      "text/plain": [
       "KstestResult(statistic=1.0, pvalue=0.0)"
      ]
     },
     "execution_count": 197,
     "metadata": {},
     "output_type": "execute_result"
    }
   ],
   "source": [
    "# The Kolmogorov-Smirnov normality test\n",
    "ks_results = scipy.stats.kstest(x, cdf='norm')\n",
    "ks_results"
   ]
  },
  {
   "cell_type": "markdown",
   "metadata": {},
   "source": [
    "Since our p-value is read as 0.0 (meaning it is \"practically\" 0 given the decimal accuracy of the test) then we have strong evidence to not reject the null-hypothesis i.e our data is sampled from a population that has a Normal Distribution.\n"
   ]
  },
  {
   "cell_type": "code",
   "execution_count": 412,
   "metadata": {
    "collapsed": false
   },
   "outputs": [
    {
     "data": {
      "image/png": "[encoded data removed]",
      "text/plain": [
       "<matplotlib.figure.Figure at 0x21b1f06d6d8>"
      ]
     },
     "metadata": {},
     "output_type": "display_data"
    },
    {
     "data": {
      "text/plain": [
       "98.24923076923078"
      ]
     },
     "execution_count": 412,
     "metadata": {},
     "output_type": "execute_result"
    }
   ],
   "source": [
    "%matplotlib inline\n",
    "bins = np.linspace(96, 100, 100)\n",
    "plt.hist(df['temperature'], bins, alpha=0.5);\n",
    "plt.xlabel('Temperature')\n",
    "plt.ylabel('No. of Cases')\n",
    "a=df['temperature']\n",
    "mean= np.mean(a)\n",
    "variance = np.var(a)\n",
    "sigma = np.sqrt(variance)\n",
    "x = np.linspace(96, 100, 100)\n",
    "plt.plot(x, mlab.normpdf(x, mean, sigma)*18)\n",
    "plt.show()\n"
   ]
  },
  {
   "cell_type": "markdown",
   "metadata": {},
   "source": [
    "The  distribution of body temperatures is therefore, normal with mean of 98.249 and standard deviation of 0.7303"
   ]
  },
  {
   "cell_type": "markdown",
   "metadata": {},
   "source": [
    "# Is the sample size large? Are the observations independent? "
   ]
  },
  {
   "cell_type": "markdown",
   "metadata": {},
   "source": [
    "In this section, we take a sample from df['temperature'], calculated its mean, and write this down; then take another (independent) sample and get its mean and write it down; and we do this 1000 times. \n",
    "\n",
    "We then see that the distribution of the means is always a perfect bell curve. This assumption is especially true at least when large samples are used, such as N ≥ 30. \n",
    "\n",
    "The number 30 comes from taking the worst-case scenario (i.e., a population distribution that is the farthest from normal), this being the exponential distribution. N has to be greater than or equal to 30 in order for the sampling distribution of the mean to be close enough to normal for practical purposes when the population is exponential.\n",
    "\n",
    "Given that empirical distributions are rarely as non-normal as the exponential, the value of 30 is a conservative criterion. Observed data are never as “bad” as a true exponential and, so, N of 10 or more are almost always enough to correct any problems, but we still talk about 30 to cover every possibility."
   ]
  },
  {
   "cell_type": "code",
   "execution_count": 358,
   "metadata": {
    "collapsed": false
   },
   "outputs": [
    {
     "data": {
      "image/png": "[encoded data removed]",
      "text/plain": [
       "<matplotlib.figure.Figure at 0x21b20c1db38>"
      ]
     },
     "metadata": {},
     "output_type": "display_data"
    }
   ],
   "source": [
    "'''Simulate many experiments and see how much the results vary \n",
    "from one experiment to the next. '''\n",
    "\n",
    "#Returns a random sample of items from an axis of object.\n",
    "def make_sample(n):\n",
    "    sample = df['temperature'].sample(n) \n",
    "    return sample\n",
    "#Calculates mean of sample\n",
    "def sample_stat(sample):\n",
    "    return sample.mean()\n",
    "\n",
    "def compute_sample_statistics(n, iters):\n",
    "    stats = [sample_stat(make_sample(n)) for i in range(iters)]\n",
    "    return np.array(stats)\n",
    "\n",
    "#Calculates mean of 1000 random samples, each of size 100\n",
    "sample_means = compute_sample_statistics(n=100, iters=1000)\n",
    "\n",
    "plt.hist(sample_means )\n",
    "plt.xlabel('sample mean (n=100)')\n",
    "plt.ylabel('count')\n",
    "None"
   ]
  },
  {
   "cell_type": "code",
   "execution_count": 368,
   "metadata": {
    "collapsed": false
   },
   "outputs": [
    {
     "name": "stdout",
     "output_type": "stream",
     "text": [
      "Standard Error 0.0348771494105\n",
      "90% Confdence Interval [ 98.193    98.30505]\n"
     ]
    }
   ],
   "source": [
    "#Calculates the Standard Error and 90% Confdence Interval\n",
    "def summarize_sampling_distribution(sample_stats):\n",
    "    print('Standard Error', sample_stats.std())\n",
    "    print('90% Confdence Interval', np.percentile(sample_stats, [5, 95]))\n",
    "\n",
    "summarize_sampling_distribution(sample_means)"
   ]
  },
  {
   "cell_type": "markdown",
   "metadata": {},
   "source": [
    "Hence the samples are independent and large enough for Central Limit Theorem to hold.\n",
    "\n",
    "Central Limit Theorem says that given random and independent samples of N observations each, the distribution of sample means\n",
    "approaches normality as the size of N increases, regardless of the shape of the population distribution\n",
    "\n",
    "Given random and independent samples of N observations each (taken from a normal distribution), the distribution of sample means is normal and unbiased (i.e., centered on the mean of the population), regardless of the\n",
    "size of N.\n"
   ]
  },
  {
   "cell_type": "markdown",
   "metadata": {},
   "source": [
    "# Is the true population mean really 98.6 degrees F? "
   ]
  },
  {
   "cell_type": "markdown",
   "metadata": {},
   "source": [
    "## One-sample Test   \n",
    "The null hypothesis: the population mean for the treatment group is not significantly different from known or standard value c. This is stated succintly as,\n",
    " \n",
    "<center>**H0: μ = c**</center>\n",
    "\n",
    "The alternative hypothesis: the population mean is not equal to c or,\n",
    " \n",
    "<center>**H1: μ ≠ c**</center>\n",
    "\n",
    "## Paired Two-sample Test   \n",
    "Use a paired sample test when there is a natural one-to-one pairing between the subjects in two treatment groups. In this case, the difference scores di = x2i - x1i can be computed and a one-sample test performed using the null hypothesis that the mean of the difference is not significantly different than zero,\n",
    " \n",
    "<center>**H0: μdiff = 0**</center>\n",
    "\n",
    "The alternative hypothesis is, \n",
    " \n",
    "<center>**H1: μdiff ≠ 0**</center>\n",
    "\n",
    "## Independent Two-sample Test\n",
    "Use the independent two-sample test when there is not a natural one-to-one pairing between the subjects in two treatment groups. The null hypothesis that the population means of the two groups are not significantly different,\n",
    " \n",
    "<center>**H0: μA = μB**</center>\n",
    "\n",
    "The alternative hypothesis is, \n",
    " \n",
    "<center>**H1: μA ≠ μB**</center>\n",
    "\n",
    "\n",
    "## Selection of Test to be Employed in this Case\n",
    "\n",
    "Since we only operate on one treatment group, we use the one-sample test. The sample size is N ≥ 30 and so we use the z-test,\n",
    "\n",
    "<center>**z = (x - μ) / SE_mean**</center>\n",
    "\n",
    "where, \n",
    "\n",
    "<center>**SE_mean = s_x / √n**</center>\n"
   ]
  },
  {
   "cell_type": "markdown",
   "metadata": {},
   "source": [
    "## One-Sample Z-Test"
   ]
  },
  {
   "cell_type": "code",
   "execution_count": 413,
   "metadata": {
    "collapsed": false
   },
   "outputs": [
    {
     "data": {
      "text/plain": [
       "9.999999999998899e-05"
      ]
     },
     "execution_count": 413,
     "metadata": {},
     "output_type": "execute_result"
    }
   ],
   "source": [
    "import math\n",
    "#Observed mean\n",
    "x= mean # 98.249 \n",
    "#Given mean of 98.6 degree F\n",
    "mu= 98.6\n",
    "# Estimate of standard error\n",
    "n=130\n",
    "n_sqrt= math.sqrt(n)\n",
    "SE_mean= 0.7303/n_sqrt\n",
    "z= (x-mu)/SE_mean\n",
    "Prob_z= 0.9999\n",
    "#The probability of getting this result by chance is p_value= 1- Prob_z\n",
    "p_value = 1- Prob_z\n",
    "p_value"
   ]
  },
  {
   "cell_type": "code",
   "execution_count": 353,
   "metadata": {
    "collapsed": false
   },
   "outputs": [
    {
     "name": "stdout",
     "output_type": "stream",
     "text": [
      "Standard Error 0.0349164548029\n",
      "90% Confdence Interval [ 98.193  98.306]\n"
     ]
    }
   ],
   "source": [
    "summarize_sampling_distribution(sample_means)"
   ]
  },
  {
   "cell_type": "markdown",
   "metadata": {},
   "source": [
    "## Conclusion \n",
    "\n",
    "Since the P-value is 0.0099% or approximately 0.01%, which is much less than 5%, we reject the Null hypothesis (that says the population mean for the treatment group is not significantly different from the known or standard value of 98.6 degree F). \n",
    "\n",
    "From the section above where we Simulate many experiments and see how much the results vary from one experiment to the next, we can conclude that the mean normal body temperature is in the interval [98.193,  98.306] with a 90% confidence interval."
   ]
  },
  {
   "cell_type": "markdown",
   "metadata": {},
   "source": [
    "## One-Sample Z-Test"
   ]
  },
  {
   "cell_type": "code",
   "execution_count": 364,
   "metadata": {
    "collapsed": false
   },
   "outputs": [
    {
     "data": {
      "text/plain": [
       "0.04999999999999449"
      ]
     },
     "execution_count": 364,
     "metadata": {},
     "output_type": "execute_result"
    }
   ],
   "source": [
    "t=z\n",
    "#using the t-distribution table for 129 degrees of freedom one-sided\n",
    "Prob_t= 0.9995 #percent\n",
    "p_value_tDist= 1-Prob_t\n",
    "p_value_tDist"
   ]
  },
  {
   "cell_type": "markdown",
   "metadata": {},
   "source": [
    "Since the P-value is 0.04999% or approximately 0.05%, which is much less than 5%, we reject the Null hypothesis (that says the population mean for the treatment group is not significantly different from the known or standard value of 98.6 degree F). The lower probability reported by the p-value here is due to the fact that we consider a t-distribution that does not assume normal distribution of sample means as in the case of the z-score which assumes normality in distribution of sample means."
   ]
  },
  {
   "cell_type": "markdown",
   "metadata": {},
   "source": [
    "## At what temperature should we consider someone's temperature to be \"abnormal\"? \n"
   ]
  },
  {
   "cell_type": "code",
   "execution_count": 395,
   "metadata": {
    "collapsed": false
   },
   "outputs": [],
   "source": [
    "SE=sample_means.std()\n",
    "array=np.percentile(sample_means, [5, 95])\n",
    "list1= array.tolist()\n",
    "list1\n",
    "    \n",
    "lower_limit= list1[0]- list1[0]*SE\n",
    "upper_limit= list1[1]+ list1[1]*SE"
   ]
  },
  {
   "cell_type": "code",
   "execution_count": 396,
   "metadata": {
    "collapsed": false
   },
   "outputs": [
    {
     "data": {
      "text/plain": [
       "94.768308067937994"
      ]
     },
     "execution_count": 396,
     "metadata": {},
     "output_type": "execute_result"
    }
   ],
   "source": [
    "lower_limit"
   ]
  },
  {
   "cell_type": "code",
   "execution_count": 397,
   "metadata": {
    "collapsed": false
   },
   "outputs": [
    {
     "data": {
      "text/plain": [
       "101.73364991665346"
      ]
     },
     "execution_count": 397,
     "metadata": {},
     "output_type": "execute_result"
    }
   ],
   "source": [
    "upper_limit"
   ]
  },
  {
   "cell_type": "markdown",
   "metadata": {},
   "source": [
    "Based on the above confidence interval nd standard error, anything below lower_limit and anything above upper_limit is considered 'abnormal' body temperature"
   ]
  },
  {
   "cell_type": "markdown",
   "metadata": {},
   "source": [
    "## Is there a significant difference between males and females in normal temperature? "
   ]
  },
  {
   "cell_type": "code",
   "execution_count": 326,
   "metadata": {
    "collapsed": false
   },
   "outputs": [],
   "source": [
    "a= df.groupby(['gender','temperature'],as_index=False).count()\n",
    "b= a.iloc[0:26,0:3]\n",
    "temp= b['temperature'].values.tolist()\n",
    "count=b['heart_rate'].values.tolist()\n",
    "c= a.iloc[27:,0:3]\n",
    "temp1= c['temperature'].values.tolist()\n",
    "count1=c['heart_rate'].values.tolist()"
   ]
  },
  {
   "cell_type": "code",
   "execution_count": 335,
   "metadata": {
    "collapsed": false
   },
   "outputs": [
    {
     "data": {
      "text/plain": [
       "<matplotlib.text.Text at 0x21b203a7e48>"
      ]
     },
     "execution_count": 335,
     "metadata": {},
     "output_type": "execute_result"
    },
    {
     "data": {
      "image/png": "[encoded data removed]",
      "text/plain": [
       "<matplotlib.figure.Figure at 0x21b1ef62710>"
      ]
     },
     "metadata": {},
     "output_type": "display_data"
    }
   ],
   "source": [
    "%matplotlib inline\n",
    "import plotly.graph_objs as go\n",
    "bins = np.linspace(96, 100, 10)\n",
    "plt.scatter(temp, count);\n",
    "plt.plot(temp, count, 'r:');\n",
    "mean= np.mean(temp)\n",
    "variance = np.var(temp)\n",
    "sigma = np.sqrt(variance)\n",
    "x = np.linspace(96, 100, 100)\n",
    "plt.plot(x, mlab.normpdf(x, mean, sigma)*14)\n",
    "plt.xlabel('Temperature')\n",
    "plt.ylabel('No.of Female Cases')\n"
   ]
  },
  {
   "cell_type": "code",
   "execution_count": 338,
   "metadata": {
    "collapsed": false
   },
   "outputs": [
    {
     "data": {
      "text/plain": [
       "[98.303846153846152, 0.92714647802597838]"
      ]
     },
     "execution_count": 338,
     "metadata": {},
     "output_type": "execute_result"
    }
   ],
   "source": [
    "[mean, sigma] #test statistics for women"
   ]
  },
  {
   "cell_type": "code",
   "execution_count": 334,
   "metadata": {
    "collapsed": false
   },
   "outputs": [
    {
     "data": {
      "text/plain": [
       "<matplotlib.text.Text at 0x21b201e9278>"
      ]
     },
     "execution_count": 334,
     "metadata": {},
     "output_type": "execute_result"
    },
    {
     "data": {
      "image/png": "[encoded data removed]",
      "text/plain": [
       "<matplotlib.figure.Figure at 0x21b1ef1a240>"
      ]
     },
     "metadata": {},
     "output_type": "display_data"
    }
   ],
   "source": [
    "%matplotlib inline\n",
    "import plotly.graph_objs as go\n",
    "bins = np.linspace(96, 100, 10)\n",
    "plt.scatter(temp1, count1);\n",
    "plt.plot(temp1, count1, 'r:');\n",
    "mean1= np.mean(temp1)\n",
    "variance1 = np.var(temp1)\n",
    "sigma1 = np.sqrt(variance1)\n",
    "x1 = np.linspace(96, 100, 100)\n",
    "plt.plot(x1, mlab.normpdf(x1, mean1, sigma1)*13)\n",
    "plt.xlabel('Temperature')\n",
    "plt.ylabel('No.of Male Cases')\n"
   ]
  },
  {
   "cell_type": "code",
   "execution_count": 336,
   "metadata": {
    "collapsed": false
   },
   "outputs": [
    {
     "data": {
      "text/plain": [
       "[98.08275862068966, 0.86784273385305577]"
      ]
     },
     "execution_count": 336,
     "metadata": {},
     "output_type": "execute_result"
    }
   ],
   "source": [
    "[mean1, sigma1] #mean Male body tem"
   ]
  },
  {
   "cell_type": "markdown",
   "metadata": {},
   "source": [
    "## Paired-sample t-test \n",
    "There is a natural one-to-one pairing between the subjects in the two treatment groups. In this case, the difference scores di = x2i - x1i can be computed and a one-sample test performed using the null hypothesis that the mean of the difference is not significantly different than zero: \n",
    " \n",
    "H0: μdiff = 0\n",
    "\n",
    "The alternative hypothesis is \n",
    " \n",
    "H0: μdiff ≠ 0\n"
   ]
  },
  {
   "cell_type": "code",
   "execution_count": 403,
   "metadata": {
    "collapsed": false
   },
   "outputs": [
    {
     "data": {
      "text/plain": [
       "0.77210425589134091"
      ]
     },
     "execution_count": 403,
     "metadata": {},
     "output_type": "execute_result"
    }
   ],
   "source": [
    "#Observed mean\n",
    "x1= mean\n",
    "x2= mean1\n",
    "#Given mean of 98.6 degree F\n",
    "var1= variance\n",
    "var2= variance1\n",
    "n1=26\n",
    "n2=29\n",
    "# Estimate of standard error\n",
    "SE_mean= math.sqrt(var1/n1+var2/n2)\n",
    "t= (x1-x2)/SE_mean\n",
    "t"
   ]
  },
  {
   "cell_type": "code",
   "execution_count": 411,
   "metadata": {
    "collapsed": false
   },
   "outputs": [
    {
     "data": {
      "text/plain": [
       "0.22999999999999998"
      ]
     },
     "execution_count": 411,
     "metadata": {},
     "output_type": "execute_result"
    }
   ],
   "source": [
    "Prob_t2= 0.77\n",
    "#The probability of getting this result by chance is p_value= 1- Prob_z\n",
    "p_value2 = 1- Prob_t2\n",
    "p_value2"
   ]
  },
  {
   "cell_type": "markdown",
   "metadata": {},
   "source": [
    "Since the P-value is 22.99%, which is much larger than 5%, we reject the alternative hypothesis and accept the Null hypothesis (the mean of the difference is not significantly different than zero). We can conclude that though the population mean of normal body temperature may differ from the stated mean of 96.8 degree F, there is no significant difference in normal body temperature between males and females. "
   ]
  },
  {
   "cell_type": "code",
   "execution_count": null,
   "metadata": {
    "collapsed": false
   },
   "outputs": [],
   "source": []
  },
  {
   "cell_type": "code",
   "execution_count": null,
   "metadata": {
    "collapsed": true
   },
   "outputs": [],
   "source": []
  },
  {
   "cell_type": "code",
   "execution_count": null,
   "metadata": {
    "collapsed": true
   },
   "outputs": [],
   "source": []
  },
  {
   "cell_type": "code",
   "execution_count": null,
   "metadata": {
    "collapsed": true
   },
   "outputs": [],
   "source": []
  },
  {
   "cell_type": "code",
   "execution_count": null,
   "metadata": {
    "collapsed": true
   },
   "outputs": [],
   "source": []
  },
  {
   "cell_type": "code",
   "execution_count": null,
   "metadata": {
    "collapsed": true
   },
   "outputs": [],
   "source": []
  },
  {
   "cell_type": "code",
   "execution_count": null,
   "metadata": {
    "collapsed": true
   },
   "outputs": [],
   "source": []
  },
  {
   "cell_type": "code",
   "execution_count": null,
   "metadata": {
    "collapsed": true
   },
   "outputs": [],
   "source": []
  },
  {
   "cell_type": "code",
   "execution_count": null,
   "metadata": {
    "collapsed": true
   },
   "outputs": [],
   "source": []
  }
 ],
 "metadata": {
  "kernelspec": {
   "display_name": "Python 3",
   "language": "python",
   "name": "python3"
  },
  "language_info": {
   "codemirror_mode": {
    "name": "ipython",
    "version": 3
   },
   "file_extension": ".py",
   "mimetype": "text/x-python",
   "name": "python",
   "nbconvert_exporter": "python",
   "pygments_lexer": "ipython3",
   "version": "3.6.0"
  }
 },
 "nbformat": 4,
 "nbformat_minor": 0
}
